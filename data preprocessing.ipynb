{
 "cells": [
  {
   "cell_type": "code",
   "execution_count": 1,
   "metadata": {
    "collapsed": true
   },
   "outputs": [],
   "source": [
    "import pandas as pd\n",
    "import numpy as np\n",
    "import matplotlib.pyplot as plt\n",
    "from collections import Counter\n",
    "from sklearn.preprocessing import MinMaxScaler\n",
    "import pickle\n",
    "\n",
    "%matplotlib inline"
   ]
  },
  {
   "cell_type": "markdown",
   "metadata": {},
   "source": [
    "## 데이터 전처리"
   ]
  },
  {
   "cell_type": "code",
   "execution_count": 2,
   "metadata": {
    "collapsed": true
   },
   "outputs": [],
   "source": [
    "movie = pd.read_pickle('movie.pkl')\n",
    "movie['고유코드'] = [str(x) + '_' + str(y) for (x, y) in zip(movie['영화명'], movie['감독'])]\n",
    "movie = movie.loc[movie['개봉일'] >= '2015-01-01']\n",
    "movie = movie.sort_values(['개봉일', '고유코드', '누적관객수'])\n",
    "col_nm = ['개봉일', '종료일', '영화명','대표국적', '제작사', '배급사', '등급', '장르', '감독', '배우', '고유코드', '누적관객수', '스크린수']\n",
    "movie = movie[col_nm]\n",
    "movie['진행일'] = [int(len(pd.date_range(movie.iloc[i]['개봉일'], '20' + movie.iloc[i]['종료일']))) for i in range(len(movie))]\n",
    "movie.loc[movie['진행일'] == 0] = None\n",
    "movie = movie.drop(['종료일'], axis = 1)\n",
    "movie.index = range(len(movie))"
   ]
  },
  {
   "cell_type": "code",
   "execution_count": 3,
   "metadata": {
    "collapsed": true
   },
   "outputs": [],
   "source": [
    "# 제작사 변수 사용이 어려워 제거\n",
    "movie = movie.drop(['제작사'], axis = 1)\n",
    "\n",
    "# 감독 정보가 없는 영화 제거\n",
    "movie = movie.loc[pd.notnull(movie['감독'])]\n",
    "\n",
    "# 배우 정보가 없는 영화 제거\n",
    "movie = movie.loc[pd.notnull(movie['배우'])]\n",
    "\n",
    "# 배급사 정보가 없는 영화 제거\n",
    "movie = movie.loc[pd.notnull(movie['배급사'])]"
   ]
  },
  {
   "cell_type": "code",
   "execution_count": 4,
   "metadata": {
    "collapsed": true
   },
   "outputs": [],
   "source": [
    "# 공연, 성인물(에로) 제거\n",
    "idx = []\n",
    "for i in movie.index:\n",
    "    if movie.loc[i, '장르'] not in ['공연', '성인물(에로)']:\n",
    "        idx.append(i)\n",
    "        \n",
    "movie = movie.loc[idx]"
   ]
  },
  {
   "cell_type": "code",
   "execution_count": 5,
   "metadata": {
    "collapsed": true
   },
   "outputs": [],
   "source": [
    "# 개봉 월 정보 추가\n",
    "movie['개봉시기'] = [str(int(v[5:7])) + '월' for v in movie['개봉일']]\n",
    "movie = movie.drop(['개봉일'], axis = 1)"
   ]
  },
  {
   "cell_type": "code",
   "execution_count": 6,
   "metadata": {
    "collapsed": true
   },
   "outputs": [],
   "source": [
    "# 가장 마지막 표본 추출\n",
    "movie = movie.drop_duplicates('고유코드', keep = 'last')\n",
    "movie = movie.set_index('고유코드')"
   ]
  },
  {
   "cell_type": "code",
   "execution_count": 7,
   "metadata": {
    "collapsed": true
   },
   "outputs": [],
   "source": [
    "# 타겟 변수 생성\n",
    "movie['평균관객수'] = [int(round(v, 0)) for v in movie['누적관객수'] / movie['진행일']]\n",
    "movie = movie.drop(['진행일'], axis = 1)"
   ]
  },
  {
   "cell_type": "code",
   "execution_count": 8,
   "metadata": {},
   "outputs": [
    {
     "data": {
      "text/plain": [
       "영화명      0\n",
       "대표국적     0\n",
       "배급사      0\n",
       "등급       0\n",
       "장르       0\n",
       "감독       0\n",
       "배우       0\n",
       "누적관객수    0\n",
       "스크린수     0\n",
       "개봉시기     0\n",
       "평균관객수    0\n",
       "dtype: int64"
      ]
     },
     "execution_count": 8,
     "metadata": {},
     "output_type": "execute_result"
    }
   ],
   "source": [
    "# 결측값 확인\n",
    "movie.isnull().sum(axis = 0)"
   ]
  },
  {
   "cell_type": "markdown",
   "metadata": {},
   "source": [
    "## 데이터 탐색"
   ]
  },
  {
   "cell_type": "code",
   "execution_count": 9,
   "metadata": {
    "collapsed": true
   },
   "outputs": [],
   "source": [
    "# 백만명을 달성한 배급사, 감독, 배우, 국적, 장르\n",
    "million = movie.loc[movie['누적관객수'] >= 1000000, ['배급사', '감독', '배우', '대표국적', '장르']].drop_duplicates(keep = 'last')"
   ]
  },
  {
   "cell_type": "code",
   "execution_count": 10,
   "metadata": {},
   "outputs": [
    {
     "name": "stdout",
     "output_type": "stream",
     "text": [
      "126\n"
     ]
    },
    {
     "data": {
      "text/html": [
       "<div>\n",
       "<style>\n",
       "    .dataframe thead tr:only-child th {\n",
       "        text-align: right;\n",
       "    }\n",
       "\n",
       "    .dataframe thead th {\n",
       "        text-align: left;\n",
       "    }\n",
       "\n",
       "    .dataframe tbody tr th {\n",
       "        vertical-align: top;\n",
       "    }\n",
       "</style>\n",
       "<table border=\"1\" class=\"dataframe\">\n",
       "  <thead>\n",
       "    <tr style=\"text-align: right;\">\n",
       "      <th></th>\n",
       "      <th>배급사</th>\n",
       "      <th>감독</th>\n",
       "      <th>배우</th>\n",
       "      <th>대표국적</th>\n",
       "      <th>장르</th>\n",
       "    </tr>\n",
       "    <tr>\n",
       "      <th>고유코드</th>\n",
       "      <th></th>\n",
       "      <th></th>\n",
       "      <th></th>\n",
       "      <th></th>\n",
       "      <th></th>\n",
       "    </tr>\n",
       "  </thead>\n",
       "  <tbody>\n",
       "    <tr>\n",
       "      <th>테이큰 3_올리비에 메가턴</th>\n",
       "      <td>이십세기폭스코리아(주)</td>\n",
       "      <td>올리비에 메가턴</td>\n",
       "      <td>리암 니슨,팜케 얀센,매기 그레이스,존 그리스,포레스트 휘테커</td>\n",
       "      <td>미국</td>\n",
       "      <td>액션,범죄,스릴러</td>\n",
       "    </tr>\n",
       "    <tr>\n",
       "      <th>박물관이 살아있다 : 비밀의 무덤_숀 레비</th>\n",
       "      <td>이십세기폭스코리아(주)</td>\n",
       "      <td>숀 레비</td>\n",
       "      <td>벤 스틸러,로빈 윌리엄스,댄 스티븐스,오웬 윌슨,벤 킹슬리,레벨 윌슨</td>\n",
       "      <td>미국</td>\n",
       "      <td>어드벤처,코미디,가족</td>\n",
       "    </tr>\n",
       "    <tr>\n",
       "      <th>오늘의 연애_박진표</th>\n",
       "      <td>씨제이이앤엠(주)</td>\n",
       "      <td>박진표</td>\n",
       "      <td>이승기,문채원,이서진,장진우,이경진,이동진,임하룡,이상협,김광규,김부선,가인,임종윤...</td>\n",
       "      <td>한국</td>\n",
       "      <td>멜로/로맨스,코미디</td>\n",
       "    </tr>\n",
       "    <tr>\n",
       "      <th>강남 1970_유하</th>\n",
       "      <td>(주)쇼박스</td>\n",
       "      <td>유하</td>\n",
       "      <td>이민호,김래원,정진영,설현,유승목,한재영,이연두,정호빈,최진호,엄효섭,최병모,지대한...</td>\n",
       "      <td>한국</td>\n",
       "      <td>액션,드라마</td>\n",
       "    </tr>\n",
       "    <tr>\n",
       "      <th>빅 히어로_돈 홀,크리스 윌리암스</th>\n",
       "      <td>월트디즈니컴퍼니코리아(주)</td>\n",
       "      <td>돈 홀,크리스 윌리암스</td>\n",
       "      <td>라이언 포터,스콧 애짓,다니엘 헤니,제이미 정,T.J. 밀러,제네시스 로드리게스,데...</td>\n",
       "      <td>미국</td>\n",
       "      <td>애니메이션,액션,코미디</td>\n",
       "    </tr>\n",
       "  </tbody>\n",
       "</table>\n",
       "</div>"
      ],
      "text/plain": [
       "                                    배급사            감독  \\\n",
       "고유코드                                                    \n",
       "테이큰 3_올리비에 메가턴             이십세기폭스코리아(주)      올리비에 메가턴   \n",
       "박물관이 살아있다 : 비밀의 무덤_숀 레비    이십세기폭스코리아(주)          숀 레비   \n",
       "오늘의 연애_박진표                    씨제이이앤엠(주)           박진표   \n",
       "강남 1970_유하                       (주)쇼박스            유하   \n",
       "빅 히어로_돈 홀,크리스 윌리암스       월트디즈니컴퍼니코리아(주)  돈 홀,크리스 윌리암스   \n",
       "\n",
       "                                                                        배우  \\\n",
       "고유코드                                                                         \n",
       "테이큰 3_올리비에 메가턴                          리암 니슨,팜케 얀센,매기 그레이스,존 그리스,포레스트 휘테커   \n",
       "박물관이 살아있다 : 비밀의 무덤_숀 레비             벤 스틸러,로빈 윌리엄스,댄 스티븐스,오웬 윌슨,벤 킹슬리,레벨 윌슨   \n",
       "오늘의 연애_박진표               이승기,문채원,이서진,장진우,이경진,이동진,임하룡,이상협,김광규,김부선,가인,임종윤...   \n",
       "강남 1970_유하               이민호,김래원,정진영,설현,유승목,한재영,이연두,정호빈,최진호,엄효섭,최병모,지대한...   \n",
       "빅 히어로_돈 홀,크리스 윌리암스       라이언 포터,스콧 애짓,다니엘 헤니,제이미 정,T.J. 밀러,제네시스 로드리게스,데...   \n",
       "\n",
       "                        대표국적            장르  \n",
       "고유코드                                        \n",
       "테이큰 3_올리비에 메가턴            미국     액션,범죄,스릴러  \n",
       "박물관이 살아있다 : 비밀의 무덤_숀 레비   미국   어드벤처,코미디,가족  \n",
       "오늘의 연애_박진표                한국    멜로/로맨스,코미디  \n",
       "강남 1970_유하                한국        액션,드라마  \n",
       "빅 히어로_돈 홀,크리스 윌리암스        미국  애니메이션,액션,코미디  "
      ]
     },
     "execution_count": 10,
     "metadata": {},
     "output_type": "execute_result"
    }
   ],
   "source": [
    "print(len(million))\n",
    "million.head()"
   ]
  },
  {
   "cell_type": "code",
   "execution_count": 11,
   "metadata": {},
   "outputs": [
    {
     "name": "stdout",
     "output_type": "stream",
     "text": [
      "백만명을 달성한 영화 배급사: 15\n",
      "백만명을 달성한 영화 감독: 126\n",
      "백만명을 달성한 영화 배우: 1195\n",
      "백만명을 달성한 국가: 4\n",
      "백만명을 5번 이상 달성한 장르: 12\n"
     ]
    }
   ],
   "source": [
    "A_lst = []\n",
    "temp = [A_lst.extend(d.split(',')) for d in million['배급사']]\n",
    "A_lst = [n for (n, v) in Counter(A_lst).most_common() if v >= 1]\n",
    "print('백만명을 달성한 영화 배급사:', len(pd.unique(A_lst)))\n",
    "\n",
    "B_lst = []\n",
    "temp = [B_lst.extend(d.split(',')) for d in million['감독']]\n",
    "B_lst = [n for (n, v) in Counter(B_lst).most_common() if v >= 1]\n",
    "print('백만명을 달성한 영화 감독:', len(pd.unique(B_lst)))\n",
    "\n",
    "C_lst = []\n",
    "temp = [C_lst.extend(d.split(',')) for d in million['배우']]\n",
    "C_lst = [n for (n, v) in Counter(C_lst).most_common() if v >= 1]\n",
    "print('백만명을 달성한 영화 배우:', len(pd.unique(C_lst)))\n",
    "\n",
    "D_lst = []\n",
    "temp = [D_lst.extend(d.split(',')) for d in million['대표국적']]\n",
    "D_lst = [n for (n, v) in Counter(D_lst).most_common() if v >= 1]\n",
    "print('백만명을 달성한 국가:', len(pd.unique(D_lst)))\n",
    "\n",
    "E_lst = []\n",
    "temp = [E_lst.extend(d.split(',')) for d in million['장르']]\n",
    "E_lst = [n for (n, v) in Counter(E_lst).most_common() if v >= 5]\n",
    "print('백만명을 5번 이상 달성한 장르:', len(pd.unique(E_lst)))"
   ]
  },
  {
   "cell_type": "code",
   "execution_count": 12,
   "metadata": {
    "collapsed": true
   },
   "outputs": [],
   "source": [
    "lst = {'A': A_lst, 'B': B_lst, 'C': C_lst, 'D': D_lst, 'E': E_lst}\n",
    "file = open('lst.pkl', 'wb')\n",
    "pickle.dump(lst, file)\n",
    "file.close()"
   ]
  },
  {
   "cell_type": "code",
   "execution_count": 12,
   "metadata": {
    "collapsed": true
   },
   "outputs": [],
   "source": [
    "# 더미변수 생성해야하는 변수 (개봉시기, 대표국적, 장르, 등급)"
   ]
  },
  {
   "cell_type": "code",
   "execution_count": 13,
   "metadata": {
    "collapsed": true
   },
   "outputs": [],
   "source": [
    "# 개봉시기 더미변수 생성\n",
    "dummy = pd.DataFrame(index = movie.index)\n",
    "lst = pd.unique(movie['개봉시기'])\n",
    "for i in lst:\n",
    "    col_n = '개봉_%s' % i\n",
    "    dummy[col_n] = 0\n",
    "    \n",
    "    for j in dummy.index:\n",
    "        if movie.loc[j, '개봉시기'] == i:\n",
    "            dummy.loc[j, col_n] = 1"
   ]
  },
  {
   "cell_type": "code",
   "execution_count": 14,
   "metadata": {
    "collapsed": true
   },
   "outputs": [],
   "source": [
    "# 등급 더미변수 생성\n",
    "lst = ['전체관람가', '12세이상관람가', '15세이상관람가', '청소년관람불가']\n",
    "for i in lst:\n",
    "    col_n = i\n",
    "    dummy[col_n] = 0\n",
    "    \n",
    "    for j in dummy.index:\n",
    "        temp = movie.loc[j, '등급'].split(',')\n",
    "        if i in temp:\n",
    "            dummy.loc[j, i] = 1"
   ]
  },
  {
   "cell_type": "code",
   "execution_count": 15,
   "metadata": {
    "collapsed": true
   },
   "outputs": [],
   "source": [
    "# 대표국적 더미변수 생성\n",
    "lst = D_lst\n",
    "for i in lst:\n",
    "    col_n = i\n",
    "    dummy[col_n] = 0\n",
    "    \n",
    "    for j in dummy.index:\n",
    "        if movie.loc[j, '대표국적'] == i:\n",
    "            dummy.loc[j, i] = 1"
   ]
  },
  {
   "cell_type": "code",
   "execution_count": 16,
   "metadata": {
    "collapsed": true
   },
   "outputs": [],
   "source": [
    "# 장르 더미변수 생성\n",
    "lst = E_lst\n",
    "for i in lst:\n",
    "    col_n = i\n",
    "    dummy[col_n] = 0\n",
    "    \n",
    "    for j in dummy.index:\n",
    "        temp = movie.loc[j, '장르'].split(',')\n",
    "        if i in temp:\n",
    "            dummy.loc[j, i] = 1"
   ]
  },
  {
   "cell_type": "code",
   "execution_count": 17,
   "metadata": {
    "collapsed": true
   },
   "outputs": [],
   "source": [
    "# 배급사 더미변수 생성\n",
    "dummy_ex = pd.DataFrame(index = movie.index)\n",
    "lst = A_lst\n",
    "for i in lst:\n",
    "    col_n = i\n",
    "    dummy_ex[col_n] = 0\n",
    "    \n",
    "    for j in dummy_ex.index:\n",
    "        temp = movie.loc[j, '배급사'].split(',')\n",
    "        if i in temp:\n",
    "            dummy_ex.loc[j, i] = 1\n",
    "            \n",
    "# 감독 더미변수 생성\n",
    "lst = B_lst\n",
    "for i in lst:\n",
    "    col_n = i\n",
    "    dummy_ex[col_n] = 0\n",
    "    \n",
    "    for j in dummy_ex.index:\n",
    "        temp = movie.loc[j, '감독'].split(',')\n",
    "        if i in temp:\n",
    "            dummy_ex.loc[j, i] = 1\n",
    "            \n",
    "# 배우 더미변수 생성\n",
    "lst = C_lst\n",
    "for i in lst:\n",
    "    col_n = i\n",
    "    dummy_ex[col_n] = 0\n",
    "    \n",
    "    for j in dummy_ex.index:\n",
    "        temp = movie.loc[j, '배우'].split(',')\n",
    "        if i in temp:\n",
    "            dummy_ex.loc[j, i] = 1"
   ]
  },
  {
   "cell_type": "code",
   "execution_count": 18,
   "metadata": {
    "collapsed": true
   },
   "outputs": [],
   "source": [
    "dummy_ex['백만배급사'] = dummy_ex[A_lst].sum(axis = 1)\n",
    "dummy_ex['백만감독'] = dummy_ex[B_lst].sum(axis = 1)\n",
    "dummy_ex['백만배우'] = dummy_ex[C_lst].sum(axis = 1)\n",
    "dummy_ex = dummy_ex[['백만배급사', '백만감독', '백만배우']]\n",
    "#dummy_ex = (dummy_ex != 0).astype(int)"
   ]
  },
  {
   "cell_type": "code",
   "execution_count": 19,
   "metadata": {
    "collapsed": true
   },
   "outputs": [],
   "source": [
    "dummy = dummy.join(dummy_ex)"
   ]
  },
  {
   "cell_type": "code",
   "execution_count": 20,
   "metadata": {
    "collapsed": true
   },
   "outputs": [],
   "source": [
    "#scaler = MinMaxScaler()\n",
    "#col_n = dummy.columns\n",
    "#row_n = dummy.index\n",
    "#dummy = scaler.fit_transform(dummy)\n",
    "#dummy = pd.DataFrame(dummy, columns = col_n, index = row_n)"
   ]
  },
  {
   "cell_type": "code",
   "execution_count": 21,
   "metadata": {
    "collapsed": true
   },
   "outputs": [],
   "source": [
    "movie = dummy.join(movie[['평균관객수']])"
   ]
  },
  {
   "cell_type": "code",
   "execution_count": 22,
   "metadata": {
    "collapsed": true
   },
   "outputs": [],
   "source": [
    "# 데이터 분할\n",
    "np.random.seed(1124142)\n",
    "test_movie = np.random.choice(movie.index, 610, replace = False)\n",
    "\n",
    "train = movie.drop(test_movie).sample(frac = 1)\n",
    "test = movie.loc[test_movie].sample(frac = 1)"
   ]
  },
  {
   "cell_type": "code",
   "execution_count": 24,
   "metadata": {
    "collapsed": true
   },
   "outputs": [],
   "source": [
    "file = open('train_data.pkl', 'wb')\n",
    "pickle.dump(train, file)\n",
    "file.close()\n",
    "\n",
    "file = open('test_data.pkl', 'wb')\n",
    "pickle.dump(test, file)\n",
    "file.close()"
   ]
  },
  {
   "cell_type": "code",
   "execution_count": null,
   "metadata": {
    "collapsed": true
   },
   "outputs": [],
   "source": []
  }
 ],
 "metadata": {
  "kernelspec": {
   "display_name": "Python 3",
   "language": "python",
   "name": "python3"
  },
  "language_info": {
   "codemirror_mode": {
    "name": "ipython",
    "version": 3
   },
   "file_extension": ".py",
   "mimetype": "text/x-python",
   "name": "python",
   "nbconvert_exporter": "python",
   "pygments_lexer": "ipython3",
   "version": "3.6.1"
  }
 },
 "nbformat": 4,
 "nbformat_minor": 2
}
