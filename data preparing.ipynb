{
 "cells": [
  {
   "cell_type": "code",
   "execution_count": 2,
   "metadata": {
    "collapsed": true
   },
   "outputs": [],
   "source": [
    "import os\n",
    "import pandas as pd\n",
    "\n",
    "filenames = os.listdir(\"./data\")\n",
    "col_names = ['순위', '영화명', '개봉일', '매출액', '매출액점유율', '누적매출액', '관객수', '누적관객수', '스크린수', \n",
    "             '상영횟수', '대표국적', '국적', '제작사', '배급사', '등급', '장르', '감독', '배우']"
   ]
  },
  {
   "cell_type": "code",
   "execution_count": 10,
   "metadata": {
    "collapsed": true
   },
   "outputs": [],
   "source": [
    "def merge_data(filenames, col_names):\n",
    "    data = pd.DataFrame(columns = col_names)\n",
    "\n",
    "    for i in range(len(filenames)):\n",
    "        name = filenames[i][:-4]\n",
    "        path = \"./data/\" + filenames[i]\n",
    "\n",
    "        temp = pd.read_html(path, encoding = 'utf-8')[0].iloc[:-1]\n",
    "        temp.columns = col_names\n",
    "\n",
    "        if len(name) == 14:\n",
    "            temp['시작일'] = name[:8].replace('.', '-')\n",
    "            temp['종료일'] = (name[:3] + name[9:]).replace('.', '-')\n",
    "\n",
    "        else:\n",
    "            temp['시작일'] = name[:8].replace('.', '-')\n",
    "            temp['종료일'] = name[9:].replace('.', '-')\n",
    "            \n",
    "        data = data.append(temp)\n",
    "        \n",
    "    return(data)"
   ]
  },
  {
   "cell_type": "code",
   "execution_count": 11,
   "metadata": {
    "collapsed": true
   },
   "outputs": [],
   "source": [
    "data = merge_data(filenames, col_names)\n",
    "data = data[['시작일', '종료일'] + col_names]"
   ]
  },
  {
   "cell_type": "code",
   "execution_count": 12,
   "metadata": {
    "collapsed": true
   },
   "outputs": [],
   "source": [
    "data.to_pickle('movie.pkl')\n",
    "data.to_csv('movie.csv')"
   ]
  },
  {
   "cell_type": "code",
   "execution_count": null,
   "metadata": {
    "collapsed": true
   },
   "outputs": [],
   "source": []
  }
 ],
 "metadata": {
  "kernelspec": {
   "display_name": "Python 3",
   "language": "python",
   "name": "python3"
  },
  "language_info": {
   "codemirror_mode": {
    "name": "ipython",
    "version": 3
   },
   "file_extension": ".py",
   "mimetype": "text/x-python",
   "name": "python",
   "nbconvert_exporter": "python",
   "pygments_lexer": "ipython3",
   "version": "3.6.1"
  }
 },
 "nbformat": 4,
 "nbformat_minor": 2
}
