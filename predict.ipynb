{
 "cells": [
  {
   "cell_type": "code",
   "execution_count": 19,
   "metadata": {},
   "outputs": [],
   "source": [
    "import pandas as pd\n",
    "import numpy as np\n",
    "import math\n",
    "import matplotlib.pyplot as plt\n",
    "from sklearn.linear_model import LinearRegression, Ridge, Lasso, ElasticNet\n",
    "from sklearn.model_selection import cross_val_score\n",
    "from xgboost import XGBRegressor\n",
    "from xgboost import plot_importance\n",
    "from sklearn.model_selection import KFold\n",
    "from sklearn.linear_model import SGDRegressor\n",
    "from sklearn.svm import SVR\n",
    "from sklearn.ensemble import RandomForestRegressor\n",
    "from sklearn.neighbors import KNeighborsRegressor\n",
    "from sklearn.neural_network import MLPRegressor\n",
    "from sklearn.metrics.pairwise import cosine_similarity\n",
    "from sklearn.cross_validation import train_test_split\n",
    "from sklearn.preprocessing import MinMaxScaler\n",
    "from sklearn.metrics import mean_squared_error\n",
    "from sklearn.pipeline import Pipeline\n",
    "import itertools\n",
    "import pyprind\n",
    "import pickle\n",
    "\n",
    "%matplotlib inline"
   ]
  },
  {
   "cell_type": "code",
   "execution_count": 36,
   "metadata": {},
   "outputs": [],
   "source": [
    "col_names = ['백만배우', '백만감독', '백만배급사', '개봉_6월', '액션', '개봉_4월', '멜로/로맨스', '전체관람가', '판타지', '개봉_2월', '15세이상관람가']\n",
    "\n",
    "file = open('lst.pkl', 'rb')\n",
    "lst = pickle.load(file)\n",
    "file.close()\n",
    "\n",
    "A_lst = lst['A']\n",
    "B_lst = lst['B']\n",
    "C_lst = lst['C']\n",
    "D_lst = lst['D']\n",
    "E_lst = lst['E']"
   ]
  },
  {
   "cell_type": "code",
   "execution_count": 56,
   "metadata": {},
   "outputs": [],
   "source": [
    "movie = pd.read_csv('test.csv', encoding = 'cp949')\n",
    "movie['고유코드'] = [str(x) + '_' + str(y) for (x, y) in zip(movie['영화명'], movie['감독'])]\n",
    "col_nm = ['개봉일', '종료일', '영화명','대표국적', '제작사', '배급사', '등급', '장르', '감독', '배우', '고유코드']\n",
    "movie = movie[col_nm]\n",
    "movie['진행일'] = [int(len(pd.date_range(movie.iloc[i]['개봉일'], movie.iloc[i]['종료일']))) for i in range(len(movie))]\n",
    "movie.loc[movie['진행일'] == 0] = None\n",
    "movie = movie.drop(['종료일'], axis = 1)\n",
    "movie.index = range(len(movie))\n",
    "day = list(movie['진행일'])\n",
    "movie_name = list(movie['영화명'])"
   ]
  },
  {
   "cell_type": "code",
   "execution_count": 57,
   "metadata": {
    "collapsed": true
   },
   "outputs": [],
   "source": [
    "# 개봉 월 정보 추가\n",
    "movie['개봉시기'] = [str(int(v[5:7])) + '월' for v in movie['개봉일']]\n",
    "movie = movie.drop(['개봉일'], axis = 1)\n",
    "\n",
    "# 개봉시기 더미변수 생성\n",
    "dummy = pd.DataFrame(index = movie.index)\n",
    "lst = pd.unique(movie['개봉시기'])\n",
    "for i in lst:\n",
    "    col_n = '개봉_%s' % i\n",
    "    dummy[col_n] = 0\n",
    "    \n",
    "    for j in dummy.index:\n",
    "        if movie.loc[j, '개봉시기'] == i:\n",
    "            dummy.loc[j, col_n] = 1\n",
    "            \n",
    "# 등급 더미변수 생성\n",
    "lst = ['전체관람가', '12세이상관람가', '15세이상관람가', '청소년관람불가']\n",
    "for i in lst:\n",
    "    col_n = i\n",
    "    dummy[col_n] = 0\n",
    "    \n",
    "    for j in dummy.index:\n",
    "        temp = movie.loc[j, '등급'].split(',')\n",
    "        if i in temp:\n",
    "            dummy.loc[j, i] = 1\n",
    "            \n",
    "# 대표국적 더미변수 생성\n",
    "lst = D_lst\n",
    "for i in lst:\n",
    "    col_n = i\n",
    "    dummy[col_n] = 0\n",
    "    \n",
    "    for j in dummy.index:\n",
    "        if movie.loc[j, '대표국적'] == i:\n",
    "            dummy.loc[j, i] = 1\n",
    "            \n",
    "# 장르 더미변수 생성\n",
    "lst = E_lst\n",
    "for i in lst:\n",
    "    col_n = i\n",
    "    dummy[col_n] = 0\n",
    "    \n",
    "    for j in dummy.index:\n",
    "        temp = movie.loc[j, '장르'].split(',')\n",
    "        if i in temp:\n",
    "            dummy.loc[j, i] = 1\n",
    "            \n",
    "# 배급사 더미변수 생성\n",
    "dummy_ex = pd.DataFrame(index = movie.index)\n",
    "lst = A_lst\n",
    "for i in lst:\n",
    "    col_n = i\n",
    "    dummy_ex[col_n] = 0\n",
    "    \n",
    "    for j in dummy_ex.index:\n",
    "        temp = movie.loc[j, '배급사'].split(',')\n",
    "        if i in temp:\n",
    "            dummy_ex.loc[j, i] = 1\n",
    "            \n",
    "# 감독 더미변수 생성\n",
    "lst = B_lst\n",
    "for i in lst:\n",
    "    col_n = i\n",
    "    dummy_ex[col_n] = 0\n",
    "    \n",
    "    for j in dummy_ex.index:\n",
    "        temp = movie.loc[j, '감독'].split(',')\n",
    "        if i in temp:\n",
    "            dummy_ex.loc[j, i] = 1\n",
    "            \n",
    "# 배우 더미변수 생성\n",
    "lst = C_lst\n",
    "for i in lst:\n",
    "    col_n = i\n",
    "    dummy_ex[col_n] = 0\n",
    "    \n",
    "    for j in dummy_ex.index:\n",
    "        temp = movie.loc[j, '배우'].split(',')\n",
    "        if i in temp:\n",
    "            dummy_ex.loc[j, i] = 1\n",
    "            \n",
    "dummy_ex['백만배급사'] = dummy_ex[A_lst].sum(axis = 1)\n",
    "dummy_ex['백만감독'] = dummy_ex[B_lst].sum(axis = 1)\n",
    "dummy_ex['백만배우'] = dummy_ex[C_lst].sum(axis = 1)\n",
    "dummy_ex = dummy_ex[['백만배급사', '백만감독', '백만배우']]\n",
    "#dummy_ex = (dummy_ex != 0).astype(int)\n",
    "\n",
    "dummy = dummy.join(dummy_ex)\n",
    "dummy['개봉_2월'] = 0\n",
    "dummy['개봉_4월'] = 0\n",
    "dummy['개봉_6월'] = 0\n",
    "\n",
    "movie = dummy[col_names]"
   ]
  },
  {
   "cell_type": "code",
   "execution_count": 58,
   "metadata": {},
   "outputs": [
    {
     "data": {
      "text/html": [
       "<div>\n",
       "<style>\n",
       "    .dataframe thead tr:only-child th {\n",
       "        text-align: right;\n",
       "    }\n",
       "\n",
       "    .dataframe thead th {\n",
       "        text-align: left;\n",
       "    }\n",
       "\n",
       "    .dataframe tbody tr th {\n",
       "        vertical-align: top;\n",
       "    }\n",
       "</style>\n",
       "<table border=\"1\" class=\"dataframe\">\n",
       "  <thead>\n",
       "    <tr style=\"text-align: right;\">\n",
       "      <th></th>\n",
       "      <th>백만배우</th>\n",
       "      <th>백만감독</th>\n",
       "      <th>백만배급사</th>\n",
       "      <th>개봉_6월</th>\n",
       "      <th>액션</th>\n",
       "      <th>개봉_4월</th>\n",
       "      <th>멜로/로맨스</th>\n",
       "      <th>전체관람가</th>\n",
       "      <th>판타지</th>\n",
       "      <th>개봉_2월</th>\n",
       "      <th>15세이상관람가</th>\n",
       "    </tr>\n",
       "  </thead>\n",
       "  <tbody>\n",
       "    <tr>\n",
       "      <th>0</th>\n",
       "      <td>1</td>\n",
       "      <td>1</td>\n",
       "      <td>1</td>\n",
       "      <td>0</td>\n",
       "      <td>1</td>\n",
       "      <td>0</td>\n",
       "      <td>0</td>\n",
       "      <td>0</td>\n",
       "      <td>0</td>\n",
       "      <td>0</td>\n",
       "      <td>0</td>\n",
       "    </tr>\n",
       "    <tr>\n",
       "      <th>1</th>\n",
       "      <td>1</td>\n",
       "      <td>1</td>\n",
       "      <td>0</td>\n",
       "      <td>0</td>\n",
       "      <td>0</td>\n",
       "      <td>0</td>\n",
       "      <td>0</td>\n",
       "      <td>0</td>\n",
       "      <td>0</td>\n",
       "      <td>0</td>\n",
       "      <td>1</td>\n",
       "    </tr>\n",
       "    <tr>\n",
       "      <th>2</th>\n",
       "      <td>0</td>\n",
       "      <td>0</td>\n",
       "      <td>0</td>\n",
       "      <td>0</td>\n",
       "      <td>0</td>\n",
       "      <td>0</td>\n",
       "      <td>0</td>\n",
       "      <td>1</td>\n",
       "      <td>0</td>\n",
       "      <td>0</td>\n",
       "      <td>0</td>\n",
       "    </tr>\n",
       "  </tbody>\n",
       "</table>\n",
       "</div>"
      ],
      "text/plain": [
       "   백만배우  백만감독  백만배급사  개봉_6월  액션  개봉_4월  멜로/로맨스  전체관람가  판타지  개봉_2월  15세이상관람가\n",
       "0     1     1      1      0   1      0       0      0    0      0         0\n",
       "1     1     1      0      0   0      0       0      0    0      0         1\n",
       "2     0     0      0      0   0      0       0      1    0      0         0"
      ]
     },
     "execution_count": 58,
     "metadata": {},
     "output_type": "execute_result"
    }
   ],
   "source": [
    "movie"
   ]
  },
  {
   "cell_type": "code",
   "execution_count": null,
   "metadata": {
    "collapsed": true
   },
   "outputs": [],
   "source": []
  },
  {
   "cell_type": "markdown",
   "metadata": {},
   "source": [
    "# Model loading"
   ]
  },
  {
   "cell_type": "code",
   "execution_count": 59,
   "metadata": {},
   "outputs": [],
   "source": [
    "import pickle\n",
    "file = open('model1.pkl', 'rb')\n",
    "model1 = pickle.load(file)\n",
    "file.close()\n",
    "\n",
    "file = open('model2.pkl', 'rb')\n",
    "model2 = pickle.load(file)\n",
    "file.close()\n",
    "\n",
    "file = open('model3.pkl', 'rb')\n",
    "model3 = pickle.load(file)\n",
    "file.close()\n",
    "\n",
    "file = open('model_agg.pkl', 'rb')\n",
    "model_agg = pickle.load(file)\n",
    "file.close()"
   ]
  },
  {
   "cell_type": "code",
   "execution_count": 60,
   "metadata": {
    "collapsed": true
   },
   "outputs": [],
   "source": [
    "def first_stage(model, data, k = 5, seed = 0):\n",
    "    np.random.seed(seed)\n",
    "    pred = np.zeros((len(data), 1))\n",
    "    kf = KFold(n_splits = k)\n",
    "    kf.get_n_splits(len(data))\n",
    "    for train_idx, test_idx in kf.split(data):\n",
    "        train_data = data.iloc[train_idx]\n",
    "        test_data = data.iloc[test_idx]\n",
    "        tr_X = train_data.drop('평균관객수', axis = 1).as_matrix()\n",
    "        tr_y = train_data['평균관객수'].as_matrix()\n",
    "        te_X = test_data.drop('평균관객수', axis = 1).as_matrix()\n",
    "        te_y = test_data['평균관객수'].as_matrix()\n",
    "\n",
    "        model.fit(X = tr_X, y = tr_y)\n",
    "        pred[test_idx] = model.predict(te_X).reshape(-1, 1)\n",
    "        \n",
    "    return(pred)"
   ]
  },
  {
   "cell_type": "code",
   "execution_count": 61,
   "metadata": {},
   "outputs": [
    {
     "name": "stdout",
     "output_type": "stream",
     "text": [
      "[ 23358.32248446   8714.3952077     121.20072442]\n"
     ]
    }
   ],
   "source": [
    "pred1 = model1.predict(movie).reshape(-1, 1)\n",
    "pred2 = model2.predict(movie).reshape(-1, 1)\n",
    "pred3 = model3.predict(movie).reshape(-1, 1)\n",
    "\n",
    "new_X = np.hstack((pred1, pred2, pred3))\n",
    "pred = model_agg.predict(new_X)\n",
    "\n",
    "print(pred)"
   ]
  },
  {
   "cell_type": "code",
   "execution_count": 63,
   "metadata": {},
   "outputs": [
    {
     "name": "stdout",
     "output_type": "stream",
     "text": [
      "킹스맨: 골든 서클: 327017\n",
      "남한산성: 95858\n",
      "넛잡2: 970\n"
     ]
    }
   ],
   "source": [
    "predict = pred * day\n",
    "\n",
    "for (n, v) in zip(movie_name, predict):\n",
    "    print('%s: %.0f' % (n, v))"
   ]
  },
  {
   "cell_type": "code",
   "execution_count": null,
   "metadata": {
    "collapsed": true
   },
   "outputs": [],
   "source": []
  }
 ],
 "metadata": {
  "kernelspec": {
   "display_name": "Python 3",
   "language": "python",
   "name": "python3"
  },
  "language_info": {
   "codemirror_mode": {
    "name": "ipython",
    "version": 3
   },
   "file_extension": ".py",
   "mimetype": "text/x-python",
   "name": "python",
   "nbconvert_exporter": "python",
   "pygments_lexer": "ipython3",
   "version": "3.6.1"
  }
 },
 "nbformat": 4,
 "nbformat_minor": 2
}
