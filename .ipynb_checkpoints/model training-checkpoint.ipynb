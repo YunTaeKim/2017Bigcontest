{
 "cells": [
  {
   "cell_type": "code",
   "execution_count": 8,
   "metadata": {},
   "outputs": [],
   "source": [
    "import pandas as pd\n",
    "import numpy as np\n",
    "import math\n",
    "import matplotlib.pyplot as plt\n",
    "from sklearn.linear_model import LinearRegression, Ridge, Lasso, ElasticNet\n",
    "from sklearn.model_selection import cross_val_score\n",
    "from xgboost import XGBRegressor\n",
    "from xgboost import plot_importance\n",
    "from sklearn.model_selection import KFold\n",
    "from sklearn.linear_model import SGDRegressor\n",
    "from sklearn.svm import SVR\n",
    "from sklearn.ensemble import RandomForestRegressor\n",
    "from sklearn.neighbors import KNeighborsRegressor\n",
    "from sklearn.neural_network import MLPRegressor\n",
    "from sklearn.metrics.pairwise import cosine_similarity\n",
    "from sklearn.cross_validation import train_test_split\n",
    "from sklearn.preprocessing import MinMaxScaler\n",
    "from sklearn.metrics import mean_squared_error\n",
    "from sklearn.pipeline import Pipeline\n",
    "import itertools\n",
    "import pyprind\n",
    "\n",
    "%matplotlib inline"
   ]
  },
  {
   "cell_type": "code",
   "execution_count": 2,
   "metadata": {
    "collapsed": true
   },
   "outputs": [],
   "source": [
    "train = pd.read_pickle('train_data.pkl')\n",
    "train.index = range(len(train))\n",
    "test = pd.read_pickle('test_data.pkl')\n",
    "test.index = range(len(test))"
   ]
  },
  {
   "cell_type": "code",
   "execution_count": 3,
   "metadata": {
    "collapsed": true
   },
   "outputs": [],
   "source": [
    "train_X = train.drop('평균관객수', axis = 1).as_matrix()\n",
    "train_y = train['평균관객수'].as_matrix()\n",
    "test_X = test.drop('평균관객수', axis = 1).as_matrix()\n",
    "test_y = test['평균관객수'].as_matrix()"
   ]
  },
  {
   "cell_type": "code",
   "execution_count": 4,
   "metadata": {},
   "outputs": [
    {
     "data": {
      "text/plain": [
       "XGBRegressor(base_score=0.5, colsample_bylevel=1, colsample_bytree=1, gamma=0,\n",
       "       learning_rate=0.1, max_delta_step=0, max_depth=3,\n",
       "       min_child_weight=1, missing=None, n_estimators=100, nthread=-1,\n",
       "       objective='reg:linear', reg_alpha=0, reg_lambda=1,\n",
       "       scale_pos_weight=1, seed=0, silent=True, subsample=1)"
      ]
     },
     "execution_count": 4,
     "metadata": {},
     "output_type": "execute_result"
    }
   ],
   "source": [
    "model = XGBRegressor()\n",
    "model.fit(train_X, train_y)"
   ]
  },
  {
   "cell_type": "code",
   "execution_count": 5,
   "metadata": {
    "scrolled": false
   },
   "outputs": [
    {
     "data": {
      "image/png": "[encoded data removed]",
      "text/plain": [
       "<matplotlib.figure.Figure at 0x199890d2470>"
      ]
     },
     "metadata": {},
     "output_type": "display_data"
    }
   ],
   "source": [
    "fig, ax = plt.subplots(1,1, figsize = (12, 8))\n",
    "plot_importance(model, ax = ax)\n",
    "plt.show()"
   ]
  },
  {
   "cell_type": "code",
   "execution_count": 6,
   "metadata": {
    "collapsed": true
   },
   "outputs": [],
   "source": [
    "lst = [34, 33, 32, 5, 20, 3, 29, 12, 27, 1, 14, 35]\n",
    "train = train[train.columns[lst]]\n",
    "test = test[test.columns[lst]]"
   ]
  },
  {
   "cell_type": "code",
   "execution_count": 11,
   "metadata": {
    "collapsed": true
   },
   "outputs": [],
   "source": [
    "train_X = train.drop('평균관객수', axis = 1).as_matrix()\n",
    "train_y = train['평균관객수'].as_matrix()\n",
    "test_X = test.drop('평균관객수', axis = 1).as_matrix()\n",
    "test_y = test['평균관객수'].as_matrix()"
   ]
  },
  {
   "cell_type": "markdown",
   "metadata": {},
   "source": [
    "## Stacked Generalization"
   ]
  },
  {
   "cell_type": "code",
   "execution_count": 12,
   "metadata": {
    "collapsed": true
   },
   "outputs": [],
   "source": [
    "def first_stage(model, data, k = 5, seed = 0):\n",
    "    np.random.seed(seed)\n",
    "    pred = np.zeros((len(data), 1))\n",
    "    kf = KFold(n_splits = k)\n",
    "    kf.get_n_splits(len(data))\n",
    "    for train_idx, test_idx in kf.split(data):\n",
    "        train_data = data.iloc[train_idx]\n",
    "        test_data = data.iloc[test_idx]\n",
    "        tr_X = train_data.drop('평균관객수', axis = 1).as_matrix()\n",
    "        tr_y = train_data['평균관객수'].as_matrix()\n",
    "        te_X = test_data.drop('평균관객수', axis = 1).as_matrix()\n",
    "        te_y = test_data['평균관객수'].as_matrix()\n",
    "\n",
    "        model.fit(X = tr_X, y = tr_y)\n",
    "        pred[test_idx] = model.predict(te_X).reshape(-1, 1)\n",
    "        \n",
    "    return(pred)"
   ]
  },
  {
   "cell_type": "markdown",
   "metadata": {
    "collapsed": true
   },
   "source": [
    "## Grid Search"
   ]
  },
  {
   "cell_type": "code",
   "execution_count": 22,
   "metadata": {},
   "outputs": [
    {
     "name": "stdout",
     "output_type": "stream",
     "text": [
      "[k: 11] RMSE: 7560.613\n"
     ]
    }
   ],
   "source": [
    "# KNeighborsRegressor\n",
    "\n",
    "k_lst = [11]\n",
    "\n",
    "for k in k_lst:\n",
    "    model = Pipeline([('scale', MinMaxScaler()),\n",
    "                      ('clf', KNeighborsRegressor(n_neighbors = k, p = 1))])\n",
    "    val = cross_val_score(model, X = train_X, y = train_y, cv = 5, scoring = 'neg_mean_squared_error')\n",
    "    print('[k: %s] RMSE: %.3f' % (k, np.sqrt(np.mean(-1 * val))))"
   ]
  },
  {
   "cell_type": "code",
   "execution_count": 36,
   "metadata": {},
   "outputs": [
    {
     "name": "stdout",
     "output_type": "stream",
     "text": [
      "[C: 6200 tol: 4000] RMSE: 8090.258\n"
     ]
    }
   ],
   "source": [
    "# SVMLinear\n",
    "\n",
    "C = [6200]\n",
    "tol = [4000]\n",
    "\n",
    "for c in C:\n",
    "    for t in tol:\n",
    "        model = Pipeline([('scale', MinMaxScaler()),\n",
    "                          ('clf', SVR(C = c, kernel = 'linear', tol = t))])\n",
    "        val = cross_val_score(model, X = train_X, y = train_y, cv = 5, scoring = 'neg_mean_squared_error')\n",
    "        print('[C: %s tol: %s] RMSE: %.3f' % (c, t, np.sqrt(np.mean(-1 * val))))"
   ]
  },
  {
   "cell_type": "code",
   "execution_count": 48,
   "metadata": {},
   "outputs": [
    {
     "name": "stdout",
     "output_type": "stream",
     "text": [
      "[rate: 0.1 n_est: 205 max_depth: 3 child: 8 lambda: 100 alpha: 1000 subsam = 1.0 colsam = 0.6] RMSE: 7121.341\n"
     ]
    }
   ],
   "source": [
    "# XGBRegressor\n",
    "\n",
    "n_est = [205]\n",
    "depth = [3]\n",
    "child = [8]\n",
    "subsam = [1.0]\n",
    "colsam = [0.6]\n",
    "lamb = [100]\n",
    "alpha = [1000]\n",
    "rate = [0.1]\n",
    "\n",
    "for n in n_est:\n",
    "    for d in depth:\n",
    "        for c in child:\n",
    "            for s in subsam:\n",
    "                for cs in colsam:\n",
    "                    for l in lamb:\n",
    "                        for a in alpha:\n",
    "                            for r in rate:\n",
    "                                model = Pipeline([('scale', MinMaxScaler()),\n",
    "                                                  ('clf', XGBRegressor(learning_rate = r, n_estimators = n, max_depth = d, min_child_weight = c, \n",
    "                                                                       colsample_bytree = cs, subsample = s, reg_lambda = l, reg_alpha = a))])\n",
    "                                val = cross_val_score(model, X = train_X, y = train_y, cv = 5, scoring = 'neg_mean_squared_error')\n",
    "                                print('[rate: %s n_est: %s max_depth: %s child: %s lambda: %s alpha: %s subsam = %s colsam = %s] RMSE: %.3f' % (r, n, d, c, l, a, s, cs, np.sqrt(np.mean(-1 * val))))"
   ]
  },
  {
   "cell_type": "code",
   "execution_count": 25,
   "metadata": {},
   "outputs": [
    {
     "data": {
      "text/plain": [
       "MLPRegressor(activation='relu', alpha=0.01, batch_size='auto', beta_1=0.9,\n",
       "       beta_2=0.999, early_stopping=False, epsilon=1e-08,\n",
       "       hidden_layer_sizes=(46,), learning_rate='constant',\n",
       "       learning_rate_init=0.001, max_iter=5000, momentum=0.9,\n",
       "       nesterovs_momentum=True, power_t=0.5, random_state=None,\n",
       "       shuffle=True, solver='adam', tol=0.0001, validation_fraction=0.1,\n",
       "       verbose=False, warm_start=False)"
      ]
     },
     "execution_count": 25,
     "metadata": {},
     "output_type": "execute_result"
    }
   ],
   "source": [
    "model1 = Pipeline([('scale', MinMaxScaler()),\n",
    "                   ('clf', KNeighborsRegressor(n_neighbors = 11, p = 1))])\n",
    "model2 = Pipeline([('scale', MinMaxScaler()),\n",
    "                   ('clf', SVR(C = c, kernel = 'linear', tol = t))])\n",
    "model3 = Pipeline([('scale', MinMaxScaler()),\n",
    "                   ('clf', XGBRegressor(learning_rate = r, n_estimators = n, max_depth = d, min_child_weight = c, \n",
    "                                        colsample_bytree = cs, subsample = s, reg_lambda = l, reg_alpha = a))])\n",
    "                               \n",
    "m1 = first_stage(model1, train, k = 5, seed = 0)\n",
    "m2 = first_stage(model2, train, k = 5, seed = 0)\n",
    "m3 = first_stage(model3, train, k = 5, seed = 0)\n",
    "m = np.hstack((m1, m2, m3))"
   ]
  },
  {
   "cell_type": "code",
   "execution_count": 57,
   "metadata": {},
   "outputs": [
    {
     "name": "stdout",
     "output_type": "stream",
     "text": [
      "[hidden: 500 alpha: 1e-05 rate: 0.1] RMSE: 6772.433\n"
     ]
    }
   ],
   "source": [
    "kf = KFold(5)\n",
    "kf.get_n_splits(train_X)\n",
    "\n",
    "hidden = [500]\n",
    "alpha = [0.00001]\n",
    "rate = [0.1]\n",
    "\n",
    "for h in hidden:\n",
    "    for a in alpha:\n",
    "        for r in rate:\n",
    "            val = [] \n",
    "            for tr_idx, te_idx in kf.split(train):\n",
    "                tr, te = train.loc[tr_idx], train.loc[te_idx]\n",
    "                tr_X, tr_y = train_X[tr_idx, :], train_y[tr_idx]\n",
    "                te_X, te_y = train_X[te_idx, :], train_y[te_idx]\n",
    "\n",
    "                model1 = Pipeline([('scale', MinMaxScaler()),\n",
    "                                   ('clf', KNeighborsRegressor(n_neighbors = 11, p = 1))])\n",
    "                model2 = Pipeline([('scale', MinMaxScaler()),\n",
    "                                   ('clf', SVR(C = 6200, kernel = 'linear', tol = 4000))])\n",
    "                model3 = Pipeline([('scale', MinMaxScaler()),\n",
    "                                   ('clf', XGBRegressor(learning_rate = 0.1, n_estimators = 205, max_depth = 3, min_child_weight = 8, \n",
    "                                                        colsample_bytree = 0.6, subsample = 1.0, reg_lambda = 100, reg_alpha = 1000))])\n",
    "                \n",
    "                m1 = first_stage(model1, tr, k = 5, seed = 0)\n",
    "                m2 = first_stage(model2, tr, k = 5, seed = 0)\n",
    "                m3 = first_stage(model3, tr, k = 5, seed = 0)\n",
    "                m = np.hstack((m1, m2, m3))\n",
    "\n",
    "                model_agg = Pipeline([('scale', MinMaxScaler()),\n",
    "                                      ('clf', MLPRegressor(hidden_layer_sizes = (h, ), learning_rate_init = r, max_iter = 5000, alpha = a))])\n",
    "                \n",
    "                model_agg.fit(X = m, y = tr_y)\n",
    "\n",
    "                model1.fit(X = tr_X, y = tr_y)\n",
    "                model2.fit(X = tr_X, y = tr_y)\n",
    "                model3.fit(X = tr_X, y = tr_y)\n",
    "\n",
    "                pred1 = model1.predict(te_X).reshape(-1, 1)\n",
    "                pred2 = model2.predict(te_X).reshape(-1, 1)\n",
    "                pred3 = model3.predict(te_X).reshape(-1, 1)\n",
    "\n",
    "                new_X = np.hstack((pred1, pred2, pred3))\n",
    "                pred = model_agg.predict(new_X)\n",
    "\n",
    "                rmse = np.sqrt(np.mean((te_y - pred) ** 2))\n",
    "                val.append(rmse)\n",
    "            print('[hidden: %s alpha: %s rate: %s] RMSE: %.3f' % (h, a, r, np.mean(val)))"
   ]
  },
  {
   "cell_type": "markdown",
   "metadata": {},
   "source": [
    "## Model Test"
   ]
  },
  {
   "cell_type": "code",
   "execution_count": 67,
   "metadata": {
    "collapsed": true
   },
   "outputs": [],
   "source": [
    "model1 = Pipeline([('scale', MinMaxScaler()),\n",
    "                   ('clf', KNeighborsRegressor(n_neighbors = 11, p = 1))])\n",
    "model2 = Pipeline([('scale', MinMaxScaler()),\n",
    "                   ('clf', SVR(C = 6200, kernel = 'linear', tol = 4000))])\n",
    "model3 = Pipeline([('scale', MinMaxScaler()),\n",
    "                   ('clf', XGBRegressor(learning_rate = 0.1, n_estimators = 205, max_depth = 3, min_child_weight = 8, \n",
    "                                        colsample_bytree = 0.6, subsample = 1.0, reg_lambda = 100, reg_alpha = 1000))])\n",
    "model_agg = Pipeline([('scale', MinMaxScaler()),\n",
    "                      ('clf', MLPRegressor(hidden_layer_sizes = (500, ), learning_rate_init = 0.1, max_iter = 10000, alpha = 0.00001))])\n",
    "                \n",
    "m1 = first_stage(model1, train, k = 5, seed = 0)\n",
    "m2 = first_stage(model2, train, k = 5, seed = 0)\n",
    "m3 = first_stage(model3, train, k = 5, seed = 0)\n",
    "m = np.hstack((m1, m2, m3))"
   ]
  },
  {
   "cell_type": "code",
   "execution_count": 68,
   "metadata": {},
   "outputs": [
    {
     "name": "stdout",
     "output_type": "stream",
     "text": [
      "RMSE: 23276.342\n"
     ]
    }
   ],
   "source": [
    "model1.fit(X = train_X, y = train_y)\n",
    "model2.fit(X = train_X, y = train_y)\n",
    "model3.fit(X = train_X, y = train_y)\n",
    "model_agg.fit(X = m, y = train_y)\n",
    "\n",
    "pred1 = model1.predict(test_X).reshape(-1, 1)\n",
    "pred2 = model2.predict(test_X).reshape(-1, 1)\n",
    "pred3 = model3.predict(test_X).reshape(-1, 1)\n",
    "\n",
    "new_X = np.hstack((pred1, pred2, pred3))\n",
    "pred = model_agg.predict(new_X)\n",
    "\n",
    "rmse = np.sqrt(np.mean((test_y - pred) ** 2))\n",
    "print('RMSE: %.3f' % rmse)"
   ]
  },
  {
   "cell_type": "code",
   "execution_count": 69,
   "metadata": {},
   "outputs": [
    {
     "data": {
      "text/plain": [
       "1952.3808130784189"
      ]
     },
     "execution_count": 69,
     "metadata": {},
     "output_type": "execute_result"
    }
   ],
   "source": [
    "np.mean(pred)"
   ]
  },
  {
   "cell_type": "code",
   "execution_count": 70,
   "metadata": {},
   "outputs": [
    {
     "data": {
      "text/plain": [
       "6877.6179690018098"
      ]
     },
     "execution_count": 70,
     "metadata": {},
     "output_type": "execute_result"
    }
   ],
   "source": [
    "np.std(pred)"
   ]
  },
  {
   "cell_type": "markdown",
   "metadata": {},
   "source": [
    "## Model Save"
   ]
  },
  {
   "cell_type": "code",
   "execution_count": 81,
   "metadata": {
    "collapsed": true
   },
   "outputs": [],
   "source": [
    "train = pd.read_pickle('train_data.pkl')\n",
    "train.index = range(len(train))\n",
    "test = pd.read_pickle('test_data.pkl')\n",
    "test.index = range(len(test))\n",
    "\n",
    "data = train.append(test)\n",
    "\n",
    "lst = [34, 33, 32, 5, 20, 3, 29, 12, 27, 1, 14, 35]\n",
    "data = data[data.columns[lst]]\n",
    "data.index = range(len(data))\n",
    "data = data.astype('float64')\n",
    "\n",
    "X = data.drop('평균관객수', axis = 1).as_matrix()\n",
    "y = data['평균관객수'].as_matrix()"
   ]
  },
  {
   "cell_type": "code",
   "execution_count": 82,
   "metadata": {
    "collapsed": true
   },
   "outputs": [],
   "source": [
    "model1 = Pipeline([('scale', MinMaxScaler()),\n",
    "                   ('clf', KNeighborsRegressor(n_neighbors = 11, p = 1))])\n",
    "model2 = Pipeline([('scale', MinMaxScaler()),\n",
    "                   ('clf', SVR(C = 6200, kernel = 'linear', tol = 4000))])\n",
    "model3 = Pipeline([('scale', MinMaxScaler()),\n",
    "                   ('clf', XGBRegressor(learning_rate = 0.1, n_estimators = 205, max_depth = 3, min_child_weight = 8, \n",
    "                                     colsample_bytree = 0.6, subsample = 1.0, reg_lambda = 100, reg_alpha = 1000))])\n",
    "model_agg = Pipeline([('scale', MinMaxScaler()),\n",
    "                      ('clf', MLPRegressor(hidden_layer_sizes = (500, ), learning_rate_init = 0.1, max_iter = 10000, alpha = 0.00001))])\n",
    "\n",
    "m1 = first_stage(model1, data, k = 5, seed = 0)\n",
    "m2 = first_stage(model2, data, k = 5, seed = 0)\n",
    "m3 = first_stage(model3, data, k = 5, seed = 0)\n",
    "m = np.hstack((m1, m2, m3))"
   ]
  },
  {
   "cell_type": "code",
   "execution_count": 83,
   "metadata": {},
   "outputs": [
    {
     "data": {
      "text/plain": [
       "Pipeline(steps=[('scale', MinMaxScaler(copy=True, feature_range=(0, 1))), ('clf', MLPRegressor(activation='relu', alpha=1e-05, batch_size='auto', beta_1=0.9,\n",
       "       beta_2=0.999, early_stopping=False, epsilon=1e-08,\n",
       "       hidden_layer_sizes=(500,), learning_rate='constant',\n",
       "       learning_rate_init=0.1, ma...=True, solver='adam', tol=0.0001, validation_fraction=0.1,\n",
       "       verbose=False, warm_start=False))])"
      ]
     },
     "execution_count": 83,
     "metadata": {},
     "output_type": "execute_result"
    }
   ],
   "source": [
    "model1.fit(X = X, y = y)\n",
    "model2.fit(X = X, y = y)\n",
    "model3.fit(X = X, y = y)\n",
    "model_agg.fit(X = m, y = y)"
   ]
  },
  {
   "cell_type": "code",
   "execution_count": 84,
   "metadata": {
    "collapsed": true
   },
   "outputs": [],
   "source": [
    "import pickle\n",
    "file = open('model1.pkl', 'wb')\n",
    "pickle.dump(model1, file)\n",
    "file.close()\n",
    "\n",
    "file = open('model2.pkl', 'wb')\n",
    "pickle.dump(model2, file)\n",
    "file.close()\n",
    "\n",
    "file = open('model3.pkl', 'wb')\n",
    "pickle.dump(model3, file)\n",
    "file.close()\n",
    "\n",
    "file = open('model_agg.pkl', 'wb')\n",
    "pickle.dump(model_agg, file)\n",
    "file.close()"
   ]
  },
  {
   "cell_type": "code",
   "execution_count": null,
   "metadata": {
    "collapsed": true
   },
   "outputs": [],
   "source": []
  }
 ],
 "metadata": {
  "kernelspec": {
   "display_name": "Python 3",
   "language": "python",
   "name": "python3"
  },
  "language_info": {
   "codemirror_mode": {
    "name": "ipython",
    "version": 3
   },
   "file_extension": ".py",
   "mimetype": "text/x-python",
   "name": "python",
   "nbconvert_exporter": "python",
   "pygments_lexer": "ipython3",
   "version": "3.6.1"
  }
 },
 "nbformat": 4,
 "nbformat_minor": 2
}
